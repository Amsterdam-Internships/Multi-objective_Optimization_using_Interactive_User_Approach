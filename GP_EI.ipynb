{
 "cells": [
  {
   "cell_type": "code",
   "execution_count": 8,
   "metadata": {},
   "outputs": [],
   "source": [
    "import pandas as pd\n",
    "import numpy as np"
   ]
  },
  {
   "cell_type": "code",
   "execution_count": 9,
   "metadata": {},
   "outputs": [],
   "source": [
    "from gp_pref_elicit_luisa import gaussian_process as GP \n",
    "from gp_pref_elicit_luisa import dataset as data \n",
    "from gp_pref_elicit_luisa import acquisition_function as acquisition_function\n",
    "from gp_pref_elicit_luisa.gp_utilities import utils_ccs as gp_utils_ccs\n",
    "from gp_pref_elicit_luisa.gp_utilities import utils_data as gp_utils_data\n",
    "from gp_pref_elicit_luisa.gp_utilities import utils_user as gp_utils_users"
   ]
  },
  {
   "cell_type": "code",
   "execution_count": 10,
   "metadata": {},
   "outputs": [],
   "source": [
    "# gp_utils_ccs.get_ccs(2, 20)\n",
    "# outputs a synthetic Pareto Coverage Set of value vectors with 2 objectives and 20 datapoints"
   ]
  },
  {
   "attachments": {},
   "cell_type": "markdown",
   "metadata": {},
   "source": [
    "The original dataset, in the data_preprocessed.ipynb file, can not be used for the Gaussian Process as it is not in the form of value vectors. To bring it into the form of value vectors, the dataset needs to be passed into a Multi-Objective Shortest Path Planning Solver which will output value vectors. These value vectors can then be an input for the GP. Thus, for now, I am using a synthetic Pareto Coverage Set (PCS) with 2 objectives and 20 datapoints which gives us synthetic value vectors for input to the GP."
   ]
  },
  {
   "cell_type": "code",
   "execution_count": 11,
   "metadata": {},
   "outputs": [
    {
     "data": {
      "text/plain": [
       "array([[0.14370116, 0.99159928],\n",
       "       [0.9797389 , 0.2242916 ],\n",
       "       [0.        , 1.        ],\n",
       "       [0.91055917, 0.45020785],\n",
       "       [0.59678925, 0.81854996],\n",
       "       [1.        , 0.        ],\n",
       "       [0.94198057, 0.352479  ],\n",
       "       [0.81501748, 0.65358114],\n",
       "       [0.99814566, 0.05429028],\n",
       "       [0.33305315, 0.94955291],\n",
       "       [0.28860669, 0.96123215],\n",
       "       [0.99999796, 0.02591092],\n",
       "       [0.98910769, 0.14092867],\n",
       "       [0.18584726, 0.98334638],\n",
       "       [0.05210043, 0.99838732],\n",
       "       [0.87761802, 0.52114756],\n",
       "       [0.74002719, 0.7144284 ],\n",
       "       [0.21487083, 0.97724899],\n",
       "       [0.43622937, 0.90230767],\n",
       "       [0.99525346, 0.08213535]])"
      ]
     },
     "execution_count": 11,
     "metadata": {},
     "output_type": "execute_result"
    }
   ],
   "source": [
    "synthetic_pcs = np.array([[0.14370116, 0.99159928],\n",
    "       [0.9797389 , 0.2242916 ],\n",
    "       [0.        , 1.        ],\n",
    "       [0.91055917, 0.45020785],\n",
    "       [0.59678925, 0.81854996],\n",
    "       [1.        , 0.        ],\n",
    "       [0.94198057, 0.352479  ],\n",
    "       [0.81501748, 0.65358114],\n",
    "       [0.99814566, 0.05429028],\n",
    "       [0.33305315, 0.94955291],\n",
    "       [0.28860669, 0.96123215],\n",
    "       [0.99999796, 0.02591092],\n",
    "       [0.98910769, 0.14092867],\n",
    "       [0.18584726, 0.98334638],\n",
    "       [0.05210043, 0.99838732],\n",
    "       [0.87761802, 0.52114756],\n",
    "       [0.74002719, 0.7144284 ],\n",
    "       [0.21487083, 0.97724899],\n",
    "       [0.43622937, 0.90230767],\n",
    "       [0.99525346, 0.08213535]])\n",
    "synthetic_pcs "
   ]
  },
  {
   "cell_type": "code",
   "execution_count": 12,
   "metadata": {},
   "outputs": [],
   "source": [
    "# initializing GP, Dataset and Acquisition Function \n",
    "# num_objectives = 2\n",
    "GP = GP.GPPairwise(2)\n",
    "utils_comparisons = data.DatasetPairwise(2)\n",
    "acquisition_function_DA = acquisition_function.DiscreteAcquirer(input_domain=synthetic_pcs, query_type='pairwise', seed=None, acquisition_type='expected improvement')\n",
    "acquisition_function_EI = acquisition_function.get_expected_improvement(datapoints=synthetic_pcs, gaussian_process=GP, datapoints_hist=acquisition_function_DA.history, xi=0.01)"
   ]
  },
  {
   "cell_type": "code",
   "execution_count": 13,
   "metadata": {},
   "outputs": [],
   "source": [
    "# getting the user preferences for generating a ground truth utility function\n",
    "user_pref = gp_utils_users.UserPreference(2, std_noise=0.1)"
   ]
  },
  {
   "cell_type": "code",
   "execution_count": 14,
   "metadata": {},
   "outputs": [
    {
     "data": {
      "text/plain": [
       "(array([0.94198057, 0.352479  ]), array([0.59678925, 0.81854996]))"
      ]
     },
     "execution_count": 14,
     "metadata": {},
     "output_type": "execute_result"
    }
   ],
   "source": [
    "# getting the datapoints at which we need to query the user first \n",
    "start_points = acquisition_function_DA.get_start_points(gaussian_process=GP)\n",
    "start_points\n"
   ]
  },
  {
   "cell_type": "code",
   "execution_count": 15,
   "metadata": {},
   "outputs": [
    {
     "data": {
      "text/plain": [
       "array([0.41127682, 0.43836451])"
      ]
     },
     "execution_count": 15,
     "metadata": {},
     "output_type": "execute_result"
    }
   ],
   "source": [
    "# generating utilities for the starting datapoints\n",
    "ground_truth_utility_func = user_pref.get_preference(start_points, add_noise=True)\n",
    "ground_truth_utility_func"
   ]
  },
  {
   "cell_type": "code",
   "execution_count": 16,
   "metadata": {},
   "outputs": [],
   "source": [
    "# ground_truth_utility_func = user_pref.get_preference(synthetic_pcs, add_noise=True)\n",
    "# ground_truth_utility_func"
   ]
  },
  {
   "cell_type": "code",
   "execution_count": 17,
   "metadata": {},
   "outputs": [
    {
     "name": "stdout",
     "output_type": "stream",
     "text": [
      "Highest utility is at index  1 for the user in the dataset \n",
      " Lowest utility is at index  0 for the user in the dataset\n"
     ]
    }
   ],
   "source": [
    "highest_utility_index = np.argmax(ground_truth_utility_func)\n",
    "lowest_utility_index = np.argmin(ground_truth_utility_func)\n",
    "print('Highest utility is at index ', highest_utility_index,  'for the user in the dataset', '\\n', \n",
    "'Lowest utility is at index ', lowest_utility_index, 'for the user in the dataset')\n",
    "# this outputs the index of the points in the synthetic dataset which have the highest and lowest utility"
   ]
  },
  {
   "cell_type": "code",
   "execution_count": 18,
   "metadata": {},
   "outputs": [],
   "source": [
    "# getting the user preference for the datapoint in the synthetic dataset having the highest utility\n",
    "# ground_truth_utility_func = user_pref.get_preference(synthetic_pcs[highest_utility_index], add_noise=True)\n",
    "# ground_truth_utility_func"
   ]
  },
  {
   "cell_type": "code",
   "execution_count": 19,
   "metadata": {},
   "outputs": [
    {
     "data": {
      "text/plain": [
       "array([[0.9797389 , 0.2242916 ],\n",
       "       [0.14370116, 0.99159928]])"
      ]
     },
     "execution_count": 19,
     "metadata": {},
     "output_type": "execute_result"
    }
   ],
   "source": [
    "# comparing datapoints with highest and lowest utility values generated from the ground truth utility function \n",
    "# and adding these to the GP\n",
    "utils_comparisons.add_single_comparison(synthetic_pcs[highest_utility_index], synthetic_pcs[lowest_utility_index])\n",
    "utils_comparisons_datapoints = utils_comparisons.datapoints\n",
    "utils_comparisons_datapoints "
   ]
  },
  {
   "cell_type": "code",
   "execution_count": 20,
   "metadata": {},
   "outputs": [
    {
     "data": {
      "text/plain": [
       "3"
      ]
     },
     "execution_count": 20,
     "metadata": {},
     "output_type": "execute_result"
    }
   ],
   "source": [
    "# to get the point which will be retained by the comparison in the dataset\n",
    "highest_point = np.argmax(utils_comparisons_datapoints)\n",
    "highest_point"
   ]
  },
  {
   "cell_type": "code",
   "execution_count": 21,
   "metadata": {},
   "outputs": [],
   "source": [
    "# updating the GP based on the comparisons added to the dataset\n",
    "GP.update(utils_comparisons)"
   ]
  },
  {
   "cell_type": "code",
   "execution_count": 22,
   "metadata": {},
   "outputs": [
    {
     "data": {
      "text/plain": [
       "array([0.81501748, 0.65358114])"
      ]
     },
     "execution_count": 22,
     "metadata": {},
     "output_type": "execute_result"
    }
   ],
   "source": [
    "# gives the next points to query for the user \n",
    "next_points = acquisition_function_DA.get_next_point(gaussian_process=GP, dataset=utils_comparisons)\n",
    "next_points\n",
    "# outputs next set of value vectors for comparisons"
   ]
  },
  {
   "cell_type": "code",
   "execution_count": 23,
   "metadata": {},
   "outputs": [
    {
     "data": {
      "text/plain": [
       "array([0.54893453])"
      ]
     },
     "execution_count": 23,
     "metadata": {},
     "output_type": "execute_result"
    }
   ],
   "source": [
    "# we now run the user preference on the next points to query\n",
    "ground_truth_utility_func = user_pref.get_preference(x=next_points, add_noise=True)\n",
    "ground_truth_utility_func"
   ]
  },
  {
   "cell_type": "code",
   "execution_count": 24,
   "metadata": {},
   "outputs": [
    {
     "data": {
      "text/plain": [
       "0"
      ]
     },
     "execution_count": 24,
     "metadata": {},
     "output_type": "execute_result"
    }
   ],
   "source": [
    "# we get the index of the highes point which indicates highest utility for the datapoint\n",
    "highest_utility_index1 = np.argmax(ground_truth_utility_func)\n",
    "highest_utility_index1"
   ]
  },
  {
   "cell_type": "code",
   "execution_count": 25,
   "metadata": {},
   "outputs": [
    {
     "data": {
      "text/plain": [
       "array([[0.9797389 , 0.2242916 ],\n",
       "       [0.14370116, 0.99159928],\n",
       "       [0.91055917, 0.45020785]])"
      ]
     },
     "execution_count": 25,
     "metadata": {},
     "output_type": "execute_result"
    }
   ],
   "source": [
    "# comparing datapoints with highest and lowest utility values generated from the ground truth utility function \n",
    "# and adding these to the GP\n",
    "utils_comparisons.add_single_comparison(synthetic_pcs[highest_point], synthetic_pcs[highest_utility_index1])\n",
    "utils_comparisons_datapoints = utils_comparisons.datapoints\n",
    "utils_comparisons_datapoints "
   ]
  },
  {
   "cell_type": "code",
   "execution_count": 26,
   "metadata": {},
   "outputs": [],
   "source": [
    "GP.update(utils_comparisons)"
   ]
  },
  {
   "cell_type": "code",
   "execution_count": 27,
   "metadata": {},
   "outputs": [
    {
     "data": {
      "text/plain": [
       "array([[0.91055917, 0.45020785],\n",
       "       [0.14370116, 0.99159928]])"
      ]
     },
     "execution_count": 27,
     "metadata": {},
     "output_type": "execute_result"
    }
   ],
   "source": [
    "# points to exclude for getting the expected improvement\n",
    "# we do this because we want to exclude all the points the current maximum was already compared to\n",
    "exclude = acquisition_function.exclude_points_pairwise(dataset=utils_comparisons)\n",
    "exclude"
   ]
  },
  {
   "cell_type": "code",
   "execution_count": 28,
   "metadata": {},
   "outputs": [
    {
     "data": {
      "text/plain": [
       "array([0.59678925, 0.81854996])"
      ]
     },
     "execution_count": 28,
     "metadata": {},
     "output_type": "execute_result"
    }
   ],
   "source": [
    "next_point_EI = acquisition_function_DA.get_next_point_EI(gaussian_process=GP, exclude=exclude)\n",
    "next_point_EI"
   ]
  },
  {
   "cell_type": "code",
   "execution_count": 29,
   "metadata": {},
   "outputs": [
    {
     "data": {
      "text/plain": [
       "array([0.79790602])"
      ]
     },
     "execution_count": 29,
     "metadata": {},
     "output_type": "execute_result"
    }
   ],
   "source": [
    "# generating utilities for the next datapoints according to EI\n",
    "ground_truth_utility_func1 = user_pref.get_preference(next_point_EI, add_noise=True)\n",
    "ground_truth_utility_func1"
   ]
  },
  {
   "cell_type": "code",
   "execution_count": 30,
   "metadata": {},
   "outputs": [
    {
     "data": {
      "text/plain": [
       "0"
      ]
     },
     "execution_count": 30,
     "metadata": {},
     "output_type": "execute_result"
    }
   ],
   "source": [
    "# we get the index of the highes point which indicates highest utility for the datapoint\n",
    "highest_utility_index2 = np.argmax(ground_truth_utility_func1)\n",
    "highest_utility_index2"
   ]
  },
  {
   "cell_type": "code",
   "execution_count": 31,
   "metadata": {},
   "outputs": [
    {
     "data": {
      "text/plain": [
       "array([[0.9797389 , 0.2242916 ],\n",
       "       [0.14370116, 0.99159928],\n",
       "       [0.91055917, 0.45020785]])"
      ]
     },
     "execution_count": 31,
     "metadata": {},
     "output_type": "execute_result"
    }
   ],
   "source": [
    "# comparing datapoints with highest and lowest utility values generated from the ground truth utility function \n",
    "# and adding these to the GP\n",
    "utils_comparisons.add_single_comparison(synthetic_pcs[highest_point], synthetic_pcs[highest_utility_index1])\n",
    "utils_comparisons_datapoints = utils_comparisons.datapoints\n",
    "utils_comparisons_datapoints "
   ]
  },
  {
   "cell_type": "code",
   "execution_count": 32,
   "metadata": {},
   "outputs": [],
   "source": [
    "GP.update(utils_comparisons)"
   ]
  },
  {
   "cell_type": "code",
   "execution_count": 33,
   "metadata": {},
   "outputs": [
    {
     "data": {
      "text/plain": [
       "array([0.08134857, 0.12136644, 0.17213742, 0.12136643, 0.23883934,\n",
       "       0.22413789, 0.17184728, 0.22396078, 0.19918195, 0.20525771,\n",
       "       0.17534387, 0.21428428, 0.13734255, 0.09294928, 0.12794248,\n",
       "       0.13376841, 0.23767833, 0.1123285 , 0.23470928, 0.18036713])"
      ]
     },
     "execution_count": 33,
     "metadata": {},
     "output_type": "execute_result"
    }
   ],
   "source": [
    "# similarly for this, I am not sure if the input and output are correct\n",
    "acquisition_function.get_expected_improvement(datapoints=synthetic_pcs, gaussian_process=GP, datapoints_hist=acquisition_function_DA.history, xi=0.01)"
   ]
  },
  {
   "cell_type": "code",
   "execution_count": 34,
   "metadata": {},
   "outputs": [
    {
     "data": {
      "text/plain": [
       "array([0.49035336])"
      ]
     },
     "execution_count": 34,
     "metadata": {},
     "output_type": "execute_result"
    }
   ],
   "source": [
    "prob_impr = acquisition_function.get_probability_of_improvement(x=next_point_EI, gaussian_process=GP, x_previous=next_points)\n",
    "prob_impr"
   ]
  },
  {
   "cell_type": "code",
   "execution_count": null,
   "metadata": {},
   "outputs": [],
   "source": [
    "# while prob_impr>0.05 :\n",
    "\n"
   ]
  },
  {
   "cell_type": "code",
   "execution_count": null,
   "metadata": {},
   "outputs": [
    {
     "name": "stdout",
     "output_type": "stream",
     "text": [
      "Sampled points from the GP are: \n",
      " [ 0.67982393  0.37691511 -0.54999997 -0.03992034  0.64456674  0.22169369\n",
      "  0.3489296   0.10824162  0.17637865 -0.46793137 -0.18302655  0.19235659\n",
      "  0.28728856  0.64440499  0.00787193 -0.52657715  0.45506158  0.4796792\n",
      "  0.04150372  0.18796297] \n",
      "Highest utility value is:  0.6798239315859632 \n",
      "Lowest utility value is:  -0.5499999659741701 \n",
      "\n"
     ]
    }
   ],
   "source": [
    "# I haven't updated this for loop according to the code above. Once I know the code above is correct, I will put everything here\n",
    "num_iter = 2\n",
    "for i in range(num_iter):\n",
    "    # sampling on synthetic pcs according to gaussian process\n",
    "    sampled_points_GP = GP.sample(synthetic_pcs)\n",
    "    # output of this sampling is the utility values\n",
    "\n",
    "    # Getting highest and lowest utility values from the sampled points\n",
    "    highest_util = max(sampled_points_GP)\n",
    "    lowest_util = min(sampled_points_GP)\n",
    "\n",
    "    # performing single comparisons on the highest and lowest utility values\n",
    "    \n",
    "print('Sampled points from the GP are: \\n', sampled_points_GP, '\\n' \n",
    "    'Highest utility value is: ', highest_util, '\\n'\n",
    "    'Lowest utility value is: ', lowest_util, '\\n')"
   ]
  },
  {
   "cell_type": "code",
   "execution_count": null,
   "metadata": {},
   "outputs": [],
   "source": []
  }
 ],
 "metadata": {
  "kernelspec": {
   "display_name": "Python 3",
   "language": "python",
   "name": "python3"
  },
  "language_info": {
   "codemirror_mode": {
    "name": "ipython",
    "version": 3
   },
   "file_extension": ".py",
   "mimetype": "text/x-python",
   "name": "python",
   "nbconvert_exporter": "python",
   "pygments_lexer": "ipython3",
   "version": "3.10.0"
  },
  "orig_nbformat": 4
 },
 "nbformat": 4,
 "nbformat_minor": 2
}
