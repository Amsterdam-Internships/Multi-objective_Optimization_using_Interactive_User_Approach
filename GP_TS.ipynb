{
 "cells": [
  {
   "cell_type": "code",
   "execution_count": 1,
   "metadata": {},
   "outputs": [],
   "source": [
    "import pandas as pd\n",
    "import numpy as np"
   ]
  },
  {
   "cell_type": "code",
   "execution_count": 2,
   "metadata": {},
   "outputs": [],
   "source": [
    "from gp_pref_elicit_luisa import gaussian_process as GP \n",
    "from gp_pref_elicit_luisa import dataset as data \n",
    "from gp_pref_elicit_luisa import acquisition_function as acquisition_function\n",
    "from gp_pref_elicit_luisa.gp_utilities import utils_ccs as gp_utils_ccs\n",
    "from gp_pref_elicit_luisa.gp_utilities import utils_data as gp_utils_data\n",
    "from gp_pref_elicit_luisa.gp_utilities import utils_user as gp_utils_users"
   ]
  },
  {
   "cell_type": "code",
   "execution_count": 4,
   "metadata": {},
   "outputs": [],
   "source": [
    "synthetic_pcs = np.array([[0.14370116, 0.99159928],\n",
    "       [0.9797389 , 0.2242916 ],\n",
    "       [0.        , 1.        ],\n",
    "       [0.91055917, 0.45020785],\n",
    "       [0.59678925, 0.81854996],\n",
    "       [1.        , 0.        ],\n",
    "       [0.94198057, 0.352479  ],\n",
    "       [0.81501748, 0.65358114],\n",
    "       [0.99814566, 0.05429028],\n",
    "       [0.33305315, 0.94955291],\n",
    "       [0.28860669, 0.96123215],\n",
    "       [0.99999796, 0.02591092],\n",
    "       [0.98910769, 0.14092867],\n",
    "       [0.18584726, 0.98334638],\n",
    "       [0.05210043, 0.99838732],\n",
    "       [0.87761802, 0.52114756],\n",
    "       [0.74002719, 0.7144284 ],\n",
    "       [0.21487083, 0.97724899],\n",
    "       [0.43622937, 0.90230767],\n",
    "       [0.99525346, 0.08213535]])\n"
   ]
  },
  {
   "cell_type": "code",
   "execution_count": 5,
   "metadata": {},
   "outputs": [],
   "source": [
    "GP = GP.GPPairwise(num_objectives=2)\n",
    "utility_comparisons = data.DatasetPairwise(num_objectives=2)\n",
    "acquisition_function_DA = acquisition_function.DiscreteAcquirer(input_domain=synthetic_pcs, query_type='pairwise', seed=None, acquisition_type='expected improvement')\n",
    "acquisition_function_EI = acquisition_function.get_expected_improvement(datapoints=synthetic_pcs, gaussian_process=GP, datapoints_hist=acquisition_function_DA.history, xi=0.01)\n",
    "user_pref = gp_utils_users.UserPreference(num_objectives=2, std_noise=0.1)"
   ]
  },
  {
   "cell_type": "code",
   "execution_count": 15,
   "metadata": {},
   "outputs": [],
   "source": [
    "# prob_impr = 0.5\n",
    "# while prob_impr > 0.1:\n",
    "#     start_points = acquisition_function_DA.get_start_points(gaussian_process=GP)\n",
    "#     ground_truth_utility_function_start = user_pref.get_preference(start_points, add_noise=True)\n",
    "#     highest_utility_index_start = np.argmax(ground_truth_utility_function_start)\n",
    "#     lowest_utility_index_start = np.argmin(ground_truth_utility_function_start)\n",
    "#     utility_comparisons.add_single_comparison(synthetic_pcs[highest_utility_index_start], synthetic_pcs[lowest_utility_index_start])\n",
    "#     utility_comparisons_datapoints_start = utility_comparisons.datapoints\n",
    "#     highest_utility_comparisons_datapoints_start = np.argmax(utility_comparisons_datapoints_start)\n",
    "#     GP.update(utility_comparisons)\n",
    "\n",
    "#     next_points = acquisition_function_DA.get_next_point(gaussian_process=GP, dataset=utility_comparisons)\n",
    "#     ground_truth_utility_function_next = user_pref.get_preference(x=next_points, add_noise=True)\n",
    "#     highest_utility_index_next = np.argmax(ground_truth_utility_function_next)\n",
    "#     utility_comparisons.add_single_comparison(synthetic_pcs[highest_utility_comparisons_datapoints_start], synthetic_pcs[highest_utility_index_next])\n",
    "#     utility_comparisons_datapoints_next = utility_comparisons.datapoints\n",
    "#     highest_utility_comparisons_datapoints_next = np.argmax(utility_comparisons_datapoints_next)\n",
    "#     GP.update(utility_comparisons)\n",
    "\n",
    "#     exclude_points = acquisition_function.exclude_points_pairwise(dataset=utility_comparisons)\n",
    "\n",
    "#     next_point_EI = acquisition_function_DA.get_next_point_EI(gaussian_process=GP, exclude=exclude_points)\n",
    "#     ground_truth_utility_function_next_EI = user_pref.get_preference(next_point_EI, add_noise=True)\n",
    "#     highest_utility_index_next_EI = np.argmax(ground_truth_utility_function_next_EI)\n",
    "#     utility_comparisons.add_single_comparison(synthetic_pcs[highest_utility_comparisons_datapoints_next], synthetic_pcs[highest_utility_index_next_EI])\n",
    "#     utility_comparisons_datapoint_next_EI = utility_comparisons.datapoints\n",
    "#     highest_utility_comparisons_datapoints_next_EI = np.argmax(utility_comparisons_datapoint_next_EI)\n",
    "#     GP.update(utility_comparisons)\n",
    "\n",
    "#     expected_impr_points = acquisition_function.get_expected_improvement(datapoints=synthetic_pcs, gaussian_process=GP, datapoints_hist=acquisition_function_DA.history, xi=0.01)\n",
    "#     prob_impr = acquisition_function.get_probability_of_improvement(x=next_point_EI, gaussian_process=GP, x_previous=next_points)\n",
    "#     print('start points for the GP: ', start_points, '\\n', \n",
    "#           'Ground truth utility for starting points: ', ground_truth_utility_function_start, '\\n',\n",
    "#           'Highest utility index for start points: ', highest_utility_index_start, '\\n',\n",
    "#           'Lowest utility index for starting points: ', lowest_utility_index_start, '\\n',\n",
    "\n",
    "#           'Next points for the GP: ', next_points, '\\n',\n",
    "#           'Ground truth utility function for next points: ', ground_truth_utility_function_next, '\\n'\n",
    "#           'Highest utility index for next points: ', highest_utility_index_next, '\\n',\n",
    "\n",
    "#           'Excluded points: ', exclude_points, '\\n',\n",
    "\n",
    "#           'next points for the GP acc to EI: ', next_point_EI, '\\n',\n",
    "#           'Ground truth utility function for the next points acc to EI: ', ground_truth_utility_function_next_EI, '\\n',\n",
    "#           'Highest utility index for next point acc to EI: ', highest_utility_index_next_EI, '\\n',\n",
    "\n",
    "#           'expected improvement points: ', expected_impr_points, '\\n',\n",
    "#           'Probability of improvement: ', prob_impr)\n",
    "#     if prob_impr < 0.05:\n",
    "#         break"
   ]
  }
 ],
 "metadata": {
  "kernelspec": {
   "display_name": "Python 3",
   "language": "python",
   "name": "python3"
  },
  "language_info": {
   "codemirror_mode": {
    "name": "ipython",
    "version": 3
   },
   "file_extension": ".py",
   "mimetype": "text/x-python",
   "name": "python",
   "nbconvert_exporter": "python",
   "pygments_lexer": "ipython3",
   "version": "3.10.0"
  },
  "orig_nbformat": 4
 },
 "nbformat": 4,
 "nbformat_minor": 2
}
