{
 "cells": [
  {
   "cell_type": "code",
   "execution_count": 1,
   "metadata": {},
   "outputs": [],
   "source": [
    "import pandas as pd\n",
    "import numpy as np\n",
    "from scipy.stats import multivariate_normal\n",
    "from gp_pref_elicit_luisa import dataset as data\n",
    "from gp_pref_elicit_luisa import gaussian_process as GP\n",
    "from momabs_bayesian import bayes_logistic as bayes_logistic\n",
    "from gp_pref_elicit_luisa.gp_utilities import utils_user as gp_utils_users\n",
    "from logistic_user import LogisticDecisionMaker as logistic "
   ]
  },
  {
   "cell_type": "code",
   "execution_count": 2,
   "metadata": {},
   "outputs": [],
   "source": [
    "synthetic_pcs = np.genfromtxt('synthetic_pcs_sets/obj2size100.csv', delimiter=',')\n",
    "output_csv = 'experiments/output-BLR-TS_5-100.csv'\n",
    "output_regret_csv = 'experiments/regret-BLR-TS_5-100.csv'\n",
    "objectives = 2\n",
    "features = 4"
   ]
  },
  {
   "cell_type": "code",
   "execution_count": 3,
   "metadata": {},
   "outputs": [],
   "source": [
    "# initializing dataset class\n",
    "utils_comparisons = data.DatasetPairwise(num_objectives=objectives)\n",
    "GP = GP.GPPairwise(num_objectives=objectives)\n",
    "# making an object of LogisticDecisionMaker class\n",
    "user_simulation = logistic(no_obj=objectives, num_features=features)"
   ]
  },
  {
   "cell_type": "code",
   "execution_count": 4,
   "metadata": {},
   "outputs": [
    {
     "data": {
      "text/plain": [
       "0.7367688534135608"
      ]
     },
     "execution_count": 4,
     "metadata": {},
     "output_type": "execute_result"
    }
   ],
   "source": [
    "ground_utility_dataset = user_simulation.ground_utility(synthetic_pcs)\n",
    "ground_truth_utility_function_dataset = np.max(ground_utility_dataset)\n",
    "ground_truth_utility_function_dataset"
   ]
  },
  {
   "cell_type": "code",
   "execution_count": 5,
   "metadata": {},
   "outputs": [
    {
     "data": {
      "text/plain": [
       "array([[0.18479899, 0.98277634],\n",
       "       [0.98431527, 0.1764184 ]])"
      ]
     },
     "execution_count": 5,
     "metadata": {},
     "output_type": "execute_result"
    }
   ],
   "source": [
    "# generating random points to start with from synthetic pcs \n",
    "start_points = synthetic_pcs[np.random.choice(synthetic_pcs.shape[0], size=2, replace=False)]\n",
    "start_points"
   ]
  },
  {
   "cell_type": "code",
   "execution_count": 6,
   "metadata": {},
   "outputs": [
    {
     "data": {
      "text/plain": [
       "array([0.18479899, 0.98277634])"
      ]
     },
     "execution_count": 6,
     "metadata": {},
     "output_type": "execute_result"
    }
   ],
   "source": [
    "\n",
    "# comparing the initial points for getting the current best\n",
    "current_best = user_simulation.exact_compare(start_points[0], start_points[1]) \n",
    "current_best"
   ]
  },
  {
   "cell_type": "code",
   "execution_count": 7,
   "metadata": {},
   "outputs": [
    {
     "data": {
      "text/plain": [
       "array([0.7156667])"
      ]
     },
     "execution_count": 7,
     "metadata": {},
     "output_type": "execute_result"
    }
   ],
   "source": [
    "utility_current_best = user_simulation.ground_utility(current_best)\n",
    "utility_current_best"
   ]
  },
  {
   "cell_type": "code",
   "execution_count": 8,
   "metadata": {},
   "outputs": [
    {
     "data": {
      "text/plain": [
       "array([0.99997976, 0.00636164])"
      ]
     },
     "execution_count": 8,
     "metadata": {},
     "output_type": "execute_result"
    }
   ],
   "source": [
    "# getting points according to thompson sampling \n",
    "thompson_point = user_simulation.thompson_sampled_point(synthetic_pcs)\n",
    "thompson_point"
   ]
  },
  {
   "cell_type": "code",
   "execution_count": 9,
   "metadata": {},
   "outputs": [
    {
     "data": {
      "text/plain": [
       "array([0.30401476])"
      ]
     },
     "execution_count": 9,
     "metadata": {},
     "output_type": "execute_result"
    }
   ],
   "source": [
    "utility_thompson_point = user_simulation.ground_utility(thompson_point)\n",
    "utility_thompson_point"
   ]
  },
  {
   "cell_type": "code",
   "execution_count": 10,
   "metadata": {},
   "outputs": [
    {
     "data": {
      "text/plain": [
       "array([0.18479899, 0.98277634])"
      ]
     },
     "execution_count": 10,
     "metadata": {},
     "output_type": "execute_result"
    }
   ],
   "source": [
    "# comparing the current best and the thompson sampled point\n",
    "current_best = user_simulation.exact_compare(current_best, thompson_point)\n",
    "current_best"
   ]
  },
  {
   "cell_type": "code",
   "execution_count": 11,
   "metadata": {},
   "outputs": [
    {
     "data": {
      "text/plain": [
       "array([0.18479899, 0.98277634])"
      ]
     },
     "execution_count": 11,
     "metadata": {},
     "output_type": "execute_result"
    }
   ],
   "source": [
    "exclude_point = user_simulation.exclude_points([current_best])\n",
    "exclude_point"
   ]
  },
  {
   "attachments": {},
   "cell_type": "markdown",
   "metadata": {},
   "source": [
    "As seen above, the covariance matrix has independent variances."
   ]
  },
  {
   "cell_type": "code",
   "execution_count": 12,
   "metadata": {},
   "outputs": [
    {
     "name": "stdout",
     "output_type": "stream",
     "text": [
      "Next Point according to thompson sampling:  [0.99997976 0.00636164] \n",
      " Current best point:  [0.18479899 0.98277634] \n",
      " Ground Truth Utility of Thompson Sampled Point [0.30401476] \n",
      " Ground Truth Utility of Current best point:  [0.7156667] \n",
      " Simple Regret:  [0.02110215]\n",
      "Next Point according to thompson sampling:  [0.99965233 0.02636684] \n",
      " Current best point:  [0.18479899 0.98277634] \n",
      " Ground Truth Utility of Thompson Sampled Point [0.30906237] \n",
      " Ground Truth Utility of Current best point:  [0.7156667] \n",
      " Simple Regret:  [0.02110215]\n",
      "Next Point according to thompson sampling:  [0.99965068 0.02642936] \n",
      " Current best point:  [0.18479899 0.98277634] \n",
      " Ground Truth Utility of Thompson Sampled Point [0.30907861] \n",
      " Ground Truth Utility of Current best point:  [0.7156667] \n",
      " Simple Regret:  [0.02110215]\n",
      "Next Point according to thompson sampling:  [0.99958229 0.02890048] \n",
      " Current best point:  [0.18479899 0.98277634] \n",
      " Ground Truth Utility of Thompson Sampled Point [0.30972259] \n",
      " Ground Truth Utility of Current best point:  [0.7156667] \n",
      " Simple Regret:  [0.02110215]\n",
      "Next Point according to thompson sampling:  [0.99950872 0.03134209] \n",
      " Current best point:  [0.18479899 0.98277634] \n",
      " Ground Truth Utility of Thompson Sampled Point [0.31036342] \n",
      " Ground Truth Utility of Current best point:  [0.7156667] \n",
      " Simple Regret:  [0.02110215]\n",
      "Next Point according to thompson sampling:  [0.80230662 0.59691212] \n",
      " Current best point:  [0.18479899 0.98277634] \n",
      " Ground Truth Utility of Thompson Sampled Point [0.61926809] \n",
      " Ground Truth Utility of Current best point:  [0.7156667] \n",
      " Simple Regret:  [0.02110215]\n",
      "Next Point according to thompson sampling:  [0.8613597  0.50799554] \n",
      " Current best point:  [0.18479899 0.98277634] \n",
      " Ground Truth Utility of Thompson Sampled Point [0.55478588] \n",
      " Ground Truth Utility of Current best point:  [0.7156667] \n",
      " Simple Regret:  [0.02110215]\n",
      "Next Point according to thompson sampling:  [0.00145999 0.99999893] \n",
      " Current best point:  [0.18479899 0.98277634] \n",
      " Ground Truth Utility of Thompson Sampled Point [0.69768349] \n",
      " Ground Truth Utility of Current best point:  [0.7156667] \n",
      " Simple Regret:  [0.02110215]\n",
      "Next Point according to thompson sampling:  [0.99923581 0.03908692] \n",
      " Current best point:  [0.18479899 0.98277634] \n",
      " Ground Truth Utility of Thompson Sampled Point [0.31242648] \n",
      " Ground Truth Utility of Current best point:  [0.7156667] \n",
      " Simple Regret:  [0.02110215]\n",
      "Next Point according to thompson sampling:  [0.70538641 0.70882298] \n",
      " Current best point:  [0.18479899 0.98277634] \n",
      " Ground Truth Utility of Thompson Sampled Point [0.68936088] \n",
      " Ground Truth Utility of Current best point:  [0.7156667] \n",
      " Simple Regret:  [0.02110215]\n",
      "Next Point according to thompson sampling:  [0.01535365 0.99988213] \n",
      " Current best point:  [0.18479899 0.98277634] \n",
      " Ground Truth Utility of Thompson Sampled Point [0.69912021] \n",
      " Ground Truth Utility of Current best point:  [0.7156667] \n",
      " Simple Regret:  [0.02110215]\n",
      "Next Point according to thompson sampling:  [0.99920087 0.03997036] \n",
      " Current best point:  [0.18479899 0.98277634] \n",
      " Ground Truth Utility of Thompson Sampled Point [0.31266477] \n",
      " Ground Truth Utility of Current best point:  [0.7156667] \n",
      " Simple Regret:  [0.02110215]\n",
      "Next Point according to thompson sampling:  [0.94299629 0.33280324] \n",
      " Current best point:  [0.18479899 0.98277634] \n",
      " Ground Truth Utility of Thompson Sampled Point [0.43586537] \n",
      " Ground Truth Utility of Current best point:  [0.7156667] \n",
      " Simple Regret:  [0.02110215]\n",
      "Next Point according to thompson sampling:  [0.04809094 0.99884296] \n",
      " Current best point:  [0.18479899 0.98277634] \n",
      " Ground Truth Utility of Thompson Sampled Point [0.70242673] \n",
      " Ground Truth Utility of Current best point:  [0.7156667] \n",
      " Simple Regret:  [0.02110215]\n",
      "Next Point according to thompson sampling:  [0.06767413 0.99770748] \n",
      " Current best point:  [0.18479899 0.98277634] \n",
      " Ground Truth Utility of Thompson Sampled Point [0.7043638] \n",
      " Ground Truth Utility of Current best point:  [0.7156667] \n",
      " Simple Regret:  [0.02110215]\n",
      "Next Point according to thompson sampling:  [0.99848999 0.05493392] \n",
      " Current best point:  [0.18479899 0.98277634] \n",
      " Ground Truth Utility of Thompson Sampled Point [0.3167961] \n",
      " Ground Truth Utility of Current best point:  [0.7156667] \n",
      " Simple Regret:  [0.02110215]\n",
      "Next Point according to thompson sampling:  [0.71640149 0.69768825] \n",
      " Current best point:  [0.18479899 0.98277634] \n",
      " Ground Truth Utility of Thompson Sampled Point [0.68339237] \n",
      " Ground Truth Utility of Current best point:  [0.7156667] \n",
      " Simple Regret:  [0.02110215]\n",
      "Next Point according to thompson sampling:  [0.6953824  0.71863991] \n",
      " Current best point:  [0.18479899 0.98277634] \n",
      " Ground Truth Utility of Thompson Sampled Point [0.69438608] \n",
      " Ground Truth Utility of Current best point:  [0.7156667] \n",
      " Simple Regret:  [0.02110215]\n",
      "Next Point according to thompson sampling:  [0.07891769 0.99688114] \n",
      " Current best point:  [0.18479899 0.98277634] \n",
      " Ground Truth Utility of Thompson Sampled Point [0.70546566] \n",
      " Ground Truth Utility of Current best point:  [0.7156667] \n",
      " Simple Regret:  [0.02110215]\n",
      "Next Point according to thompson sampling:  [0.85106751 0.52505628] \n",
      " Current best point:  [0.18479899 0.98277634] \n",
      " Ground Truth Utility of Thompson Sampled Point [0.56730209] \n",
      " Ground Truth Utility of Current best point:  [0.7156667] \n",
      " Simple Regret:  [0.02110215]\n",
      "Next Point according to thompson sampling:  [0.08466315 0.99640963] \n",
      " Current best point:  [0.18479899 0.98277634] \n",
      " Ground Truth Utility of Thompson Sampled Point [0.70602632] \n",
      " Ground Truth Utility of Current best point:  [0.7156667] \n",
      " Simple Regret:  [0.02110215]\n",
      "Next Point according to thompson sampling:  [0.1033745 0.9946425] \n",
      " Current best point:  [0.18479899 0.98277634] \n",
      " Ground Truth Utility of Thompson Sampled Point [0.70784317] \n",
      " Ground Truth Utility of Current best point:  [0.7156667] \n",
      " Simple Regret:  [0.02110215]\n",
      "Next Point according to thompson sampling:  [0.99757413 0.06961217] \n",
      " Current best point:  [0.18479899 0.98277634] \n",
      " Ground Truth Utility of Thompson Sampled Point [0.32102932] \n",
      " Ground Truth Utility of Current best point:  [0.7156667] \n",
      " Simple Regret:  [0.02110215]\n",
      "Next Point according to thompson sampling:  [0.99477791 0.1020633 ] \n",
      " Current best point:  [0.18479899 0.98277634] \n",
      " Ground Truth Utility of Thompson Sampled Point [0.33106769] \n",
      " Ground Truth Utility of Current best point:  [0.7156667] \n",
      " Simple Regret:  [0.02110215]\n",
      "Next Point according to thompson sampling:  [0.99439352 0.1057427 ] \n",
      " Current best point:  [0.18479899 0.98277634] \n",
      " Ground Truth Utility of Thompson Sampled Point [0.33226805] \n",
      " Ground Truth Utility of Current best point:  [0.7156667] \n",
      " Simple Regret:  [0.02110215]\n",
      "Next Point according to thompson sampling:  [0.99403379 0.10907253] \n",
      " Current best point:  [0.18479899 0.98277634] \n",
      " Ground Truth Utility of Thompson Sampled Point [0.33336569] \n",
      " Ground Truth Utility of Current best point:  [0.7156667] \n",
      " Simple Regret:  [0.02110215]\n",
      "Next Point according to thompson sampling:  [0.71890607 0.69510723] \n",
      " Current best point:  [0.18479899 0.98277634] \n",
      " Ground Truth Utility of Thompson Sampled Point [0.68196978] \n",
      " Ground Truth Utility of Current best point:  [0.7156667] \n",
      " Simple Regret:  [0.02110215]\n",
      "Next Point according to thompson sampling:  [0.9913516  0.13123265] \n",
      " Current best point:  [0.18479899 0.98277634] \n",
      " Ground Truth Utility of Thompson Sampled Point [0.3409521] \n",
      " Ground Truth Utility of Current best point:  [0.7156667] \n",
      " Simple Regret:  [0.02110215]\n",
      "Next Point according to thompson sampling:  [0.98984258 0.14216773] \n",
      " Current best point:  [0.18479899 0.98277634] \n",
      " Ground Truth Utility of Thompson Sampled Point [0.34488172] \n",
      " Ground Truth Utility of Current best point:  [0.7156667] \n",
      " Simple Regret:  [0.02110215]\n",
      "Next Point according to thompson sampling:  [0.11454623 0.99341792] \n",
      " Current best point:  [0.18479899 0.98277634] \n",
      " Ground Truth Utility of Thompson Sampled Point [0.70892267] \n",
      " Ground Truth Utility of Current best point:  [0.7156667] \n",
      " Simple Regret:  [0.02110215]\n",
      "Next Point according to thompson sampling:  [0.15993699 0.98712723] \n",
      " Current best point:  [0.18479899 0.98277634] \n",
      " Ground Truth Utility of Thompson Sampled Point [0.71328553] \n",
      " Ground Truth Utility of Current best point:  [0.7156667] \n",
      " Simple Regret:  [0.02110215]\n",
      "Next Point according to thompson sampling:  [0.35240706 0.93584682] \n",
      " Current best point:  [0.35240706 0.93584682] \n",
      " Ground Truth Utility of Thompson Sampled Point [0.73090491] \n",
      " Ground Truth Utility of Current best point:  [0.73090491] \n",
      " Simple Regret:  [0.00586394]\n",
      "Next Point according to thompson sampling:  [0.1263359  0.99198752] \n",
      " Current best point:  [0.35240706 0.93584682] \n",
      " Ground Truth Utility of Thompson Sampled Point [0.71005877] \n",
      " Ground Truth Utility of Current best point:  [0.73090491] \n",
      " Simple Regret:  [0.00586394]\n",
      "Next Point according to thompson sampling:  [0.98686215 0.16156452] \n",
      " Current best point:  [0.35240706 0.93584682] \n",
      " Ground Truth Utility of Thompson Sampled Point [0.3521674] \n",
      " Ground Truth Utility of Current best point:  [0.73090491] \n",
      " Simple Regret:  [0.00586394]\n",
      "Next Point according to thompson sampling:  [0.98563217 0.16890594] \n",
      " Current best point:  [0.35240706 0.93584682] \n",
      " Ground Truth Utility of Thompson Sampled Point [0.35503299] \n",
      " Ground Truth Utility of Current best point:  [0.73090491] \n",
      " Simple Regret:  [0.00586394]\n",
      "Next Point according to thompson sampling:  [0.13500862 0.99084442] \n",
      " Current best point:  [0.35240706 0.93584682] \n",
      " Ground Truth Utility of Thompson Sampled Point [0.71089293] \n",
      " Ground Truth Utility of Current best point:  [0.73090491] \n",
      " Simple Regret:  [0.00586394]\n",
      "Next Point according to thompson sampling:  [0.16381285 0.98649143] \n",
      " Current best point:  [0.35240706 0.93584682] \n",
      " Ground Truth Utility of Thompson Sampled Point [0.71365704] \n",
      " Ground Truth Utility of Current best point:  [0.73090491] \n",
      " Simple Regret:  [0.00586394]\n",
      "Next Point according to thompson sampling:  [0.17872947 0.98389826] \n",
      " Current best point:  [0.35240706 0.93584682] \n",
      " Ground Truth Utility of Thompson Sampled Point [0.71508581] \n",
      " Ground Truth Utility of Current best point:  [0.73090491] \n",
      " Simple Regret:  [0.00586394]\n",
      "Next Point according to thompson sampling:  [0.18479899 0.98277634] \n",
      " Current best point:  [0.35240706 0.93584682] \n",
      " Ground Truth Utility of Thompson Sampled Point [0.7156667] \n",
      " Ground Truth Utility of Current best point:  [0.73090491] \n",
      " Simple Regret:  [0.00586394]\n"
     ]
    }
   ],
   "source": [
    "# TODO: loop for BLR with stopping condition: if the current best point is already in the list of excluded points\n",
    "# terminate the loop else continue\n",
    "stop = False\n",
    "\n",
    "while not stop:\n",
    "\n",
    "    next_point_ts= user_simulation.thompson_sampled_point(synthetic_pcs)\n",
    "\n",
    "    # for point_to_explore in current_best:\n",
    "    #     if np.array_equal(next_point_ts, point_to_explore):\n",
    "    #         stop = True\n",
    "    #         break\n",
    "    if next_point_ts.tolist() in exclude_point:\n",
    "        stop = True\n",
    "    \n",
    "    # print('previous comparisons: ', user_simulation.previous_comparisons)\n",
    "    # print('previous outcomes: ', user_simulation.previous_outcomes)\n",
    "    # exclude_point_ts = user_simulation.exclude_points(synthetic_pcs)\n",
    "    # print('exclude point: ', exclude_point_ts)\n",
    "    current_best = user_simulation.exact_compare(next_point_ts, current_best)\n",
    "    \n",
    "    ground_truth_utility_function_next_point_ts = user_simulation.ground_utility(next_point_ts)\n",
    "    ground_truth_utility_function_current_best = user_simulation.ground_utility(current_best)\n",
    "\n",
    "    regret = np.subtract(ground_truth_utility_function_dataset, ground_truth_utility_function_current_best)\n",
    "\n",
    "    synthetic_pcs = [v for v in synthetic_pcs if not np.array_equal(v, next_point_ts)]\n",
    "    # next_point_ts_index = np.where((synthetic_pcs == next_point_ts).all(axis=1))[0]\n",
    "    # synthetic_pcs = np.delete(next_point_ts, next_point_ts_index, axis=0) \n",
    "    # synthetic_pcs.remove(next_point_ts)\n",
    "\n",
    "    print('Next Point according to thompson sampling: ', next_point_ts, '\\n',\n",
    "          'Current best point: ', current_best, '\\n',\n",
    "          'Ground Truth Utility of Thompson Sampled Point', ground_truth_utility_function_next_point_ts, '\\n',\n",
    "          'Ground Truth Utility of Current best point: ', ground_truth_utility_function_current_best, '\\n',\n",
    "          'Simple Regret: ', regret)"
   ]
  },
  {
   "cell_type": "code",
   "execution_count": null,
   "metadata": {},
   "outputs": [],
   "source": []
  }
 ],
 "metadata": {
  "kernelspec": {
   "display_name": "Python 3",
   "language": "python",
   "name": "python3"
  },
  "language_info": {
   "codemirror_mode": {
    "name": "ipython",
    "version": 3
   },
   "file_extension": ".py",
   "mimetype": "text/x-python",
   "name": "python",
   "nbconvert_exporter": "python",
   "pygments_lexer": "ipython3",
   "version": "3.10.0"
  },
  "orig_nbformat": 4
 },
 "nbformat": 4,
 "nbformat_minor": 2
}
