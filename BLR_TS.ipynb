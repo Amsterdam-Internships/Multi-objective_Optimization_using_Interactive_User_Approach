{
 "cells": [
  {
   "cell_type": "code",
   "execution_count": 1,
   "metadata": {},
   "outputs": [],
   "source": [
    "import pandas as pd\n",
    "import numpy as np\n",
    "from scipy.stats import multivariate_normal\n",
    "from gp_pref_elicit_luisa import dataset as data\n",
    "from gp_pref_elicit_luisa import gaussian_process as GP\n",
    "from momabs_bayesian import bayes_logistic as bayes_logistic\n",
    "from gp_pref_elicit_luisa.gp_utilities import utils_user as gp_utils_users\n",
    "from logistic_user import LogisticDecisionMaker as logistic "
   ]
  },
  {
   "cell_type": "code",
   "execution_count": 2,
   "metadata": {},
   "outputs": [],
   "source": [
    "# initializing dataset class\n",
    "utils_comparisons = data.DatasetPairwise(num_objectives=2)\n",
    "GP = GP.GPPairwise(num_objectives=2)"
   ]
  },
  {
   "cell_type": "code",
   "execution_count": 3,
   "metadata": {},
   "outputs": [],
   "source": [
    "# synthetic pareto coverage set\n",
    "synthetic_pcs = np.array([[0.14370116, 0.99159928],\n",
    "       [0.9797389 , 0.2242916 ],\n",
    "       [0.        , 1.        ],\n",
    "       [0.91055917, 0.45020785],\n",
    "       [0.59678925, 0.81854996],\n",
    "       [1.        , 0.        ],\n",
    "       [0.94198057, 0.352479  ],\n",
    "       [0.81501748, 0.65358114],\n",
    "       [0.99814566, 0.05429028],\n",
    "       [0.33305315, 0.94955291],\n",
    "       [0.28860669, 0.96123215],\n",
    "       [0.99999796, 0.02591092],\n",
    "       [0.98910769, 0.14092867],\n",
    "       [0.18584726, 0.98334638],\n",
    "       [0.05210043, 0.99838732],\n",
    "       [0.87761802, 0.52114756],\n",
    "       [0.74002719, 0.7144284 ],\n",
    "       [0.21487083, 0.97724899],\n",
    "       [0.43622937, 0.90230767],\n",
    "       [0.99525346, 0.08213535]])"
   ]
  },
  {
   "cell_type": "code",
   "execution_count": 4,
   "metadata": {},
   "outputs": [
    {
     "data": {
      "text/plain": [
       "array([[0.18584726, 0.98334638],\n",
       "       [0.33305315, 0.94955291]])"
      ]
     },
     "execution_count": 4,
     "metadata": {},
     "output_type": "execute_result"
    }
   ],
   "source": [
    "# generating random points from synthetic pcs \n",
    "start_points = synthetic_pcs[np.random.choice(synthetic_pcs.shape[0], size=2, replace=False)]\n",
    "start_points"
   ]
  },
  {
   "cell_type": "code",
   "execution_count": 5,
   "metadata": {},
   "outputs": [
    {
     "data": {
      "text/plain": [
       "array([0.18584726, 0.98334638])"
      ]
     },
     "execution_count": 5,
     "metadata": {},
     "output_type": "execute_result"
    }
   ],
   "source": [
    " # making an object of LogisticDecisionMaker class\n",
    "user_simulation = logistic(no_obj=2, num_features=4)\n",
    "# comparing the initial points for getting the current best\n",
    "current_best = user_simulation.exact_compare(start_points[0], start_points[1]) \n",
    "current_best"
   ]
  },
  {
   "cell_type": "code",
   "execution_count": 6,
   "metadata": {},
   "outputs": [
    {
     "data": {
      "text/plain": [
       "array([-1.19157865,  0.24124023, -1.22464401,  0.46851578])"
      ]
     },
     "execution_count": 6,
     "metadata": {},
     "output_type": "execute_result"
    }
   ],
   "source": [
    "# making an object of LogisticDecisionMaker class\n",
    "model_space = logistic(no_obj=2, num_features=4) \n",
    "# getting the model space which contains samples from a multivariate gaussian dsitribution\n",
    "model_space = model_space.sample_model()\n",
    "model_space"
   ]
  },
  {
   "cell_type": "code",
   "execution_count": 7,
   "metadata": {},
   "outputs": [
    {
     "data": {
      "text/plain": [
       "array([0., 1.])"
      ]
     },
     "execution_count": 7,
     "metadata": {},
     "output_type": "execute_result"
    }
   ],
   "source": [
    "# getting points according to thompson sampling \n",
    "thompson_point = user_simulation.thompson_sampled_point(synthetic_pcs)\n",
    "thompson_point"
   ]
  },
  {
   "cell_type": "code",
   "execution_count": 10,
   "metadata": {},
   "outputs": [
    {
     "data": {
      "text/plain": [
       "array([0.18584726, 0.98334638])"
      ]
     },
     "execution_count": 10,
     "metadata": {},
     "output_type": "execute_result"
    }
   ],
   "source": [
    "# comparing the current best and the thompson sampled point\n",
    "user_simulation.exact_compare(current_best, thompson_point)"
   ]
  },
  {
   "cell_type": "code",
   "execution_count": 11,
   "metadata": {},
   "outputs": [
    {
     "data": {
      "text/plain": [
       "(array([0.25144507, 0.25102431, 0.25102431, 0.25144507]),\n",
       " array([9.19676863, 9.18309093, 9.18309093, 9.19676863]))"
      ]
     },
     "execution_count": 11,
     "metadata": {},
     "output_type": "execute_result"
    }
   ],
   "source": [
    "# passing the comparison to bayesian logistic regression to get the mean and the covariance matrix \n",
    "user_simulation.current_map()"
   ]
  },
  {
   "attachments": {},
   "cell_type": "markdown",
   "metadata": {},
   "source": [
    "As seen above, the covariance matrix has independent variances."
   ]
  },
  {
   "cell_type": "code",
   "execution_count": null,
   "metadata": {},
   "outputs": [],
   "source": [
    "# TODO: loop for BLR with stopping condition: if the current best point is already in the list of excluded points\n",
    "# terminate the loop else continue"
   ]
  }
 ],
 "metadata": {
  "kernelspec": {
   "display_name": "Python 3",
   "language": "python",
   "name": "python3"
  },
  "language_info": {
   "codemirror_mode": {
    "name": "ipython",
    "version": 3
   },
   "file_extension": ".py",
   "mimetype": "text/x-python",
   "name": "python",
   "nbconvert_exporter": "python",
   "pygments_lexer": "ipython3",
   "version": "3.10.0"
  },
  "orig_nbformat": 4
 },
 "nbformat": 4,
 "nbformat_minor": 2
}
