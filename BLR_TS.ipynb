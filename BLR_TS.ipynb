{
 "cells": [
  {
   "cell_type": "code",
   "execution_count": 2,
   "metadata": {},
   "outputs": [],
   "source": [
    "import pandas as pd\n",
    "import numpy as np\n",
    "import csv\n",
    "import os\n",
    "import time"
   ]
  },
  {
   "cell_type": "code",
   "execution_count": 3,
   "metadata": {},
   "outputs": [],
   "source": [
    "from scipy.stats import multivariate_normal\n",
    "from gp_pref_elicit_luisa import dataset as data\n",
    "from gp_pref_elicit_luisa import gaussian_process as GP\n",
    "from momabs_bayesian import bayes_logistic as bayes_logistic\n",
    "from gp_pref_elicit_luisa.gp_utilities import utils_user as gp_utils_users\n",
    "from logistic_user import LogisticDecisionMaker as logistic "
   ]
  },
  {
   "cell_type": "code",
   "execution_count": 4,
   "metadata": {},
   "outputs": [],
   "source": [
    "synthetic_pcs = np.genfromtxt('synthetic_pcs_sets/obj5size100.csv', delimiter=',')\n",
    "output_csv = 'experiments/output-BLR_5-100.csv'\n",
    "output_regret_csv = 'experiments/regret-csvs/regret-BLR_5-100.csv'\n",
    "objectives = 5"
   ]
  },
  {
   "cell_type": "code",
   "execution_count": 5,
   "metadata": {},
   "outputs": [],
   "source": [
    "# initializing dataset class\n",
    "utils_comparisons = data.DatasetPairwise(num_objectives=objectives)\n",
    "GP = GP.GPPairwise(num_objectives=objectives)\n",
    "# making an object of LogisticDecisionMaker class\n",
    "user_simulation = logistic(no_obj=objectives)"
   ]
  },
  {
   "cell_type": "code",
   "execution_count": 6,
   "metadata": {},
   "outputs": [
    {
     "data": {
      "text/plain": [
       "25"
      ]
     },
     "execution_count": 6,
     "metadata": {},
     "output_type": "execute_result"
    }
   ],
   "source": [
    "dummy_feature_vector = user_simulation.features(np.zeros(objectives))\n",
    "len(dummy_feature_vector)"
   ]
  },
  {
   "cell_type": "code",
   "execution_count": 7,
   "metadata": {},
   "outputs": [
    {
     "data": {
      "text/plain": [
       "0.4394532693542663"
      ]
     },
     "execution_count": 7,
     "metadata": {},
     "output_type": "execute_result"
    }
   ],
   "source": [
    "ground_utility_dataset = user_simulation.ground_utility(synthetic_pcs)\n",
    "ground_truth_utility_function_dataset = np.max(ground_utility_dataset)\n",
    "ground_truth_utility_function_dataset"
   ]
  },
  {
   "cell_type": "code",
   "execution_count": 8,
   "metadata": {},
   "outputs": [
    {
     "name": "stdout",
     "output_type": "stream",
     "text": [
      "Start points:  [[0.18848239 0.47491632 0.83066665 0.17022018 0.14123343]\n",
      " [0.10695672 0.1115033  0.79034499 0.4135899  0.42476519]] \n",
      " Current Best Point:  [0.55946852 0.54196124 0.3235303  0.02909763 0.53642751] \n",
      " Utility of the Current Best Point:  [0.33026739] \n",
      " Thompson Sampled Point:  [0.55946852 0.54196124 0.3235303  0.02909763 0.53642751] \n",
      " Utility of the Thompson Point:  [0.37021248] \n",
      " Exclude Point:  [0.55946852 0.54196124 0.3235303  0.02909763 0.53642751]\n"
     ]
    }
   ],
   "source": [
    "# generating random points to start with from synthetic pcs \n",
    "start_points = synthetic_pcs[np.random.choice(synthetic_pcs.shape[0], size=2, replace=False)]\n",
    "\n",
    "# comparing the initial points for getting the current best\n",
    "current_best = user_simulation.exact_compare(start_points[0], start_points[1]) \n",
    "\n",
    "utility_current_best = user_simulation.ground_utility(current_best)\n",
    "\n",
    "# getting points according to thompson sampling \n",
    "thompson_point = user_simulation.thompson_sampled_point(synthetic_pcs)\n",
    "\n",
    "utility_thompson_point = user_simulation.ground_utility(thompson_point)\n",
    "\n",
    "# comparing the current best and the thompson sampled point\n",
    "current_best = user_simulation.exact_compare(current_best, thompson_point)\n",
    "\n",
    "exclude_point = user_simulation.exclude_points([current_best])\n",
    "\n",
    "\n",
    "print('Start points: ', start_points, '\\n',\n",
    "      'Current Best Point: ', current_best, '\\n',\n",
    "      'Utility of the Current Best Point: ', utility_current_best, '\\n',\n",
    "      'Thompson Sampled Point: ', thompson_point, '\\n',\n",
    "      'Utility of the Thompson Point: ', utility_thompson_point, '\\n',\n",
    "      'Exclude Point: ', exclude_point)"
   ]
  },
  {
   "cell_type": "code",
   "execution_count": 9,
   "metadata": {},
   "outputs": [
    {
     "name": "stdout",
     "output_type": "stream",
     "text": [
      "Regret at step 0: [0.06924079]\n",
      "Regret history saved\n",
      "Next Point according to thompson sampling:  [0.06268156 0.32592893 0.90573732 0.09428746 0.24615266] \n",
      " Current best point:  [0.55946852 0.54196124 0.3235303  0.02909763 0.53642751] \n",
      " Ground Truth Utility of Thompson Sampled Point [0.24953743] \n",
      " Ground Truth Utility of Current best point:  [0.37021248] \n",
      " Simple Regret:  [0.06924079] \n",
      " Number of Queries:  1 \n",
      " Computation Time:  0.022475719451904297\n",
      "Regret at step 1: [0.06924079]\n",
      "Regret history saved\n",
      "Next Point according to thompson sampling:  [0.04497888 0.2107041  0.21421156 0.3167206  0.89854446] \n",
      " Current best point:  [0.55946852 0.54196124 0.3235303  0.02909763 0.53642751] \n",
      " Ground Truth Utility of Thompson Sampled Point [0.1554504] \n",
      " Ground Truth Utility of Current best point:  [0.37021248] \n",
      " Simple Regret:  [0.06924079] \n",
      " Number of Queries:  2 \n",
      " Computation Time:  0.042331695556640625\n",
      "Regret at step 2: [0.06924079]\n",
      "Regret history saved\n",
      "Next Point according to thompson sampling:  [0.54843176 0.00568237 0.56102165 0.10392491 0.61126479] \n",
      " Current best point:  [0.55946852 0.54196124 0.3235303  0.02909763 0.53642751] \n",
      " Ground Truth Utility of Thompson Sampled Point [0.2232058] \n",
      " Ground Truth Utility of Current best point:  [0.37021248] \n",
      " Simple Regret:  [0.06924079] \n",
      " Number of Queries:  3 \n",
      " Computation Time:  0.06643557548522949\n",
      "Regret at step 3: [0.06910605]\n",
      "Regret history saved\n",
      "Next Point according to thompson sampling:  [0.38217101 0.89159656 0.11236324 0.12011368 0.17874034] \n",
      " Current best point:  [0.38217101 0.89159656 0.11236324 0.12011368 0.17874034] \n",
      " Ground Truth Utility of Thompson Sampled Point [0.37034722] \n",
      " Ground Truth Utility of Current best point:  [0.37034722] \n",
      " Simple Regret:  [0.06910605] \n",
      " Number of Queries:  4 \n",
      " Computation Time:  0.08906865119934082\n",
      "Regret at step 4: [0.06910605]\n",
      "Regret history saved\n",
      "Next Point according to thompson sampling:  [0.10695672 0.1115033  0.79034499 0.4135899  0.42476519] \n",
      " Current best point:  [0.38217101 0.89159656 0.11236324 0.12011368 0.17874034] \n",
      " Ground Truth Utility of Thompson Sampled Point [0.23455146] \n",
      " Ground Truth Utility of Current best point:  [0.37034722] \n",
      " Simple Regret:  [0.06910605] \n",
      " Number of Queries:  5 \n",
      " Computation Time:  0.10879015922546387\n",
      "Regret at step 5: [0.06910605]\n",
      "Regret history saved\n",
      "Next Point according to thompson sampling:  [0.16021382 0.10421576 0.57304728 0.07108017 0.79374746] \n",
      " Current best point:  [0.38217101 0.89159656 0.11236324 0.12011368 0.17874034] \n",
      " Ground Truth Utility of Thompson Sampled Point [0.20027894] \n",
      " Ground Truth Utility of Current best point:  [0.37034722] \n",
      " Simple Regret:  [0.06910605] \n",
      " Number of Queries:  6 \n",
      " Computation Time:  0.13422894477844238\n",
      "Regret at step 6: [0.06910605]\n",
      "Regret history saved\n",
      "Next Point according to thompson sampling:  [0.1043413  0.43322734 0.13175492 0.6808151  0.56617878] \n",
      " Current best point:  [0.38217101 0.89159656 0.11236324 0.12011368 0.17874034] \n",
      " Ground Truth Utility of Thompson Sampled Point [0.19028107] \n",
      " Ground Truth Utility of Current best point:  [0.37034722] \n",
      " Simple Regret:  [0.06910605] \n",
      " Number of Queries:  7 \n",
      " Computation Time:  0.15070724487304688\n",
      "Regret at step 7: [0.06910605]\n",
      "Regret history saved\n",
      "Next Point according to thompson sampling:  [0.55946852 0.54196124 0.3235303  0.02909763 0.53642751] \n",
      " Current best point:  [0.38217101 0.89159656 0.11236324 0.12011368 0.17874034] \n",
      " Ground Truth Utility of Thompson Sampled Point [0.37021248] \n",
      " Ground Truth Utility of Current best point:  [0.37034722] \n",
      " Simple Regret:  [0.06910605] \n",
      " Number of Queries:  8 \n",
      " Computation Time:  0.17607665061950684\n",
      "Successfully written to csv\n"
     ]
    }
   ],
   "source": [
    "# loop for BLR with stopping condition: if the current best point is already in the list of excluded points\n",
    "# terminate the loop else continue\n",
    "stop = False\n",
    "counter = 0 # counter variable to track the number of queries\n",
    "regret_hist = [] # to track and store the regret at each step\n",
    "last_counter = 0 # to store the total number of queries (which we get from the last iteration)\n",
    "last_regret = 0 # to store the regret gained from the last iteration\n",
    "\n",
    "first_run = not os.path.exists(output_csv) # checking if the file exists in the directory\n",
    "\n",
    "regret_file_check = os.path.exists(output_regret_csv) # checking if the file containing regret values at each step exists\n",
    "\n",
    "# we output all values for regret gained at each iteration in a new csv file\n",
    "with open(output_regret_csv, 'a', newline='') as csvfile:\n",
    "    write_to_regret_csv = csv.writer(csvfile)\n",
    "\n",
    "    # checking if the file exists already, if not we include the header or else we don't\n",
    "    if not regret_file_check:\n",
    "        write_to_regret_csv.writerow(['Step', 'Regret'])\n",
    "\n",
    "    starting_time = time.time() # starting the timer \n",
    "\n",
    "    while not stop:\n",
    "\n",
    "        next_point_ts= user_simulation.thompson_sampled_point(synthetic_pcs)\n",
    "\n",
    "        # for point_to_explore in current_best:\n",
    "        #     if np.array_equal(next_point_ts, point_to_explore):\n",
    "        #         stop = True\n",
    "        #         break\n",
    "        if next_point_ts.tolist() in exclude_point:\n",
    "            last_counter = counter\n",
    "            last_regret = regret\n",
    "            stop = True\n",
    "        \n",
    "        # print('previous comparisons: ', user_simulation.previous_comparisons)\n",
    "        # print('previous outcomes: ', user_simulation.previous_outcomes)\n",
    "        # exclude_point_ts = user_simulation.exclude_points(synthetic_pcs)\n",
    "        # print('exclude point: ', exclude_point_ts)\n",
    "        current_best = user_simulation.exact_compare(next_point_ts, current_best)\n",
    "        \n",
    "        ground_truth_utility_function_next_point_ts = user_simulation.ground_utility(next_point_ts)\n",
    "        ground_truth_utility_function_current_best = user_simulation.ground_utility(current_best)\n",
    "\n",
    "        regret = np.subtract(ground_truth_utility_function_dataset, ground_truth_utility_function_current_best)\n",
    "\n",
    "        # calculating regret for each step\n",
    "        regret_step = regret\n",
    "        regret_hist.append(regret) # appending the list to contain regret at every step\n",
    "        print('Regret at step {}: {}'.format(counter, regret_step))\n",
    "        write_to_regret_csv.writerow([counter + 1, regret_step]) # writing to csv\n",
    "        print('Regret history saved')\n",
    "\n",
    "        synthetic_pcs = [v for v in synthetic_pcs if not np.array_equal(v, next_point_ts)]\n",
    "\n",
    "        # incrementing the counter variable\n",
    "        counter += 1\n",
    "\n",
    "        # stop the timer\n",
    "        ending_time = time.time()\n",
    "        total_time = ending_time - starting_time\n",
    "        last_counter = counter\n",
    "        last_regret = regret\n",
    "        # next_point_ts_index = np.where((synthetic_pcs == next_point_ts).all(axis=1))[0]\n",
    "        # synthetic_pcs = np.delete(next_point_ts, next_point_ts_index, axis=0) \n",
    "        # synthetic_pcs.remove(next_point_ts)\n",
    "\n",
    "        print('Next Point according to thompson sampling: ', next_point_ts, '\\n',\n",
    "              'Current best point: ', current_best, '\\n',\n",
    "              'Ground Truth Utility of Thompson Sampled Point', ground_truth_utility_function_next_point_ts, '\\n',\n",
    "              'Ground Truth Utility of Current best point: ', ground_truth_utility_function_current_best, '\\n',\n",
    "              'Simple Regret: ', regret, '\\n',\n",
    "              'Number of Queries: ', counter, '\\n',\n",
    "              'Computation Time: ', total_time)\n",
    "    \n",
    "# we output the counter and regret of the last iteration to a csv for comparisons\n",
    "with open(output_csv, 'a', newline='') as csvfile:\n",
    "    write_to_csv = csv.writer(csvfile)\n",
    "\n",
    "    # write the header row only for the first run\n",
    "    if first_run: # if the file does not exist then we output the header otherwise we output only the data\n",
    "        write_to_csv.writerow(['Number of Queries', 'Regret'])\n",
    "    write_to_csv.writerow([last_counter, last_regret])\n",
    "print('Successfully written to csv')"
   ]
  },
  {
   "cell_type": "code",
   "execution_count": null,
   "metadata": {},
   "outputs": [],
   "source": []
  }
 ],
 "metadata": {
  "kernelspec": {
   "display_name": "Python 3",
   "language": "python",
   "name": "python3"
  },
  "language_info": {
   "codemirror_mode": {
    "name": "ipython",
    "version": 3
   },
   "file_extension": ".py",
   "mimetype": "text/x-python",
   "name": "python",
   "nbconvert_exporter": "python",
   "pygments_lexer": "ipython3",
   "version": "3.10.0"
  },
  "orig_nbformat": 4
 },
 "nbformat": 4,
 "nbformat_minor": 2
}
