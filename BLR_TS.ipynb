{
 "cells": [
  {
   "cell_type": "code",
   "execution_count": 55,
   "metadata": {},
   "outputs": [],
   "source": [
    "import pandas as pd\n",
    "import numpy as np\n",
    "from scipy.stats import multivariate_normal\n",
    "from gp_pref_elicit_luisa import dataset as data\n",
    "from momabs_bayesian import bayes_logistic as bayes_logistic"
   ]
  },
  {
   "cell_type": "code",
   "execution_count": 56,
   "metadata": {},
   "outputs": [],
   "source": [
    "# initializing dataset class\n",
    "utils_comparisons = data.DatasetPairwise(num_objectives=2)"
   ]
  },
  {
   "cell_type": "code",
   "execution_count": 57,
   "metadata": {},
   "outputs": [],
   "source": [
    "# synthetic pareto coverage set\n",
    "synthetic_pcs = np.array([[0.14370116, 0.99159928],\n",
    "       [0.9797389 , 0.2242916 ],\n",
    "       [0.        , 1.        ],\n",
    "       [0.91055917, 0.45020785],\n",
    "       [0.59678925, 0.81854996],\n",
    "       [1.        , 0.        ],\n",
    "       [0.94198057, 0.352479  ],\n",
    "       [0.81501748, 0.65358114],\n",
    "       [0.99814566, 0.05429028],\n",
    "       [0.33305315, 0.94955291],\n",
    "       [0.28860669, 0.96123215],\n",
    "       [0.99999796, 0.02591092],\n",
    "       [0.98910769, 0.14092867],\n",
    "       [0.18584726, 0.98334638],\n",
    "       [0.05210043, 0.99838732],\n",
    "       [0.87761802, 0.52114756],\n",
    "       [0.74002719, 0.7144284 ],\n",
    "       [0.21487083, 0.97724899],\n",
    "       [0.43622937, 0.90230767],\n",
    "       [0.99525346, 0.08213535]])"
   ]
  },
  {
   "cell_type": "code",
   "execution_count": 58,
   "metadata": {},
   "outputs": [
    {
     "data": {
      "text/plain": [
       "array([0.99159928, 0.14370116])"
      ]
     },
     "execution_count": 58,
     "metadata": {},
     "output_type": "execute_result"
    }
   ],
   "source": [
    "# generating random points from synthetic pcs \n",
    "start_points = np.random.choice(a=synthetic_pcs[0], size=2, replace=False)\n",
    "start_points"
   ]
  },
  {
   "cell_type": "code",
   "execution_count": 59,
   "metadata": {},
   "outputs": [
    {
     "data": {
      "text/plain": [
       "True"
      ]
     },
     "execution_count": 59,
     "metadata": {},
     "output_type": "execute_result"
    }
   ],
   "source": [
    "# adding single comparison\n",
    "utils_comparisons.add_single_comparison(winner=np.max(start_points), loser=np.min(start_points))"
   ]
  },
  {
   "cell_type": "code",
   "execution_count": 60,
   "metadata": {},
   "outputs": [],
   "source": [
    "current_best = np.max(start_points)"
   ]
  },
  {
   "cell_type": "code",
   "execution_count": 61,
   "metadata": {},
   "outputs": [],
   "source": [
    "def features(v):\n",
    "    mins = []\n",
    "    maxs = []\n",
    "    for i in range(len(v)):\n",
    "        for v_j in v[i+1]:\n",
    "            mins.append(min(v[i], v_j))\n",
    "            maxs.append(max(v[i], v_j))\n",
    "    result = list(v) + maxs + mins\n",
    "    return np.array(result)"
   ]
  },
  {
   "cell_type": "code",
   "execution_count": null,
   "metadata": {},
   "outputs": [],
   "source": [
    "# bayesian logistic regression \n",
    "bayes_logistic = bayes_logistic.fit_bayes_logistic()\n"
   ]
  },
  {
   "cell_type": "code",
   "execution_count": 54,
   "metadata": {},
   "outputs": [
    {
     "data": {
      "text/plain": [
       "[[array([0.14370116, 0.99159928]), 0.99159928, 0.14370116]]"
      ]
     },
     "execution_count": 54,
     "metadata": {},
     "output_type": "execute_result"
    }
   ],
   "source": [
    "# getting the feature vectors\n",
    "max_feature_vector = np.max(current_best, )\n",
    "min_feature_vector = np.min(current_best, )\n",
    "# combined_feature_vector = x -> 1st value vector, y -> 2nd value vector, max(x,y), min(x,y)\n",
    "# eg: [1,2] -> [1,2, max(1,2), min(1,2)] = [1, 2, 2, 1]\n",
    "# combined_feature_vector = [[current_best, , np.max(start_points), np.min(start_points)]]"
   ]
  },
  {
   "cell_type": "code",
   "execution_count": 51,
   "metadata": {},
   "outputs": [],
   "source": [
    "# multivariate normal\n",
    "# multivariate_normal(mean=, cov=, allow_singular=False, seed=None)"
   ]
  },
  {
   "cell_type": "code",
   "execution_count": null,
   "metadata": {},
   "outputs": [],
   "source": []
  }
 ],
 "metadata": {
  "kernelspec": {
   "display_name": "Python 3",
   "language": "python",
   "name": "python3"
  },
  "language_info": {
   "codemirror_mode": {
    "name": "ipython",
    "version": 3
   },
   "file_extension": ".py",
   "mimetype": "text/x-python",
   "name": "python",
   "nbconvert_exporter": "python",
   "pygments_lexer": "ipython3",
   "version": "3.10.0"
  },
  "orig_nbformat": 4
 },
 "nbformat": 4,
 "nbformat_minor": 2
}
